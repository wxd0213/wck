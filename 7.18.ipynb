{
 "cells": [
  {
   "cell_type": "markdown",
   "metadata": {},
   "source": [
    "# 选择\n",
    "## 布尔类型、数值和表达式\n",
    "![](../Photo/33.png)\n",
    "- 注意：比较运算符的相等是两个等到，一个等到代表赋值\n",
    "- 在Python中可以用整型0来代表False，其他数字来代表True\n",
    "- 后面还会讲到 is 在判断语句中的用发"
   ]
  },
  {
   "cell_type": "code",
   "execution_count": 10,
   "metadata": {},
   "outputs": [
    {
     "name": "stdout",
     "output_type": "stream",
     "text": [
      "欢迎使用\n",
      "请输入账号：9999\n",
      "请输入密码：123456\n",
      "你的账户余额为： 10000\n",
      "输入要取的钱:1000\n",
      "剩余金额: 9000\n"
     ]
    }
   ],
   "source": [
    "print('欢迎使用')\n",
    "name1=9999\n",
    "passwd=123456\n",
    "name=eval(input('请输入账号：'))\n",
    "if (name1!=name):\n",
    "    print('账号输入错误！请重新输入')\n",
    "else:\n",
    "    passwd1=eval(input('请输入密码：'))\n",
    "    if(passwd!=passwd1):\n",
    "        print('密码错误！')\n",
    "    else:\n",
    "        m=10000\n",
    "        print('你的账户余额为：',m)\n",
    "        w=eval(input('输入要取的钱:'))\n",
    "        if (w>m):\n",
    "            print('你没有那么多钱！')\n",
    "        else:\n",
    "            m=m-w\n",
    "        print('剩余金额:',m)"
   ]
  },
  {
   "cell_type": "markdown",
   "metadata": {},
   "source": [
    "## 字符串的比较使用ASCII值"
   ]
  },
  {
   "cell_type": "markdown",
   "metadata": {},
   "source": [
    "## Markdown \n",
    "- https://github.com/younghz/Markdown"
   ]
  },
  {
   "cell_type": "markdown",
   "metadata": {},
   "source": [
    "## EP:\n",
    "- <img src=\"../Photo/34.png\"></img>\n",
    "- 输入一个数字，判断其实奇数还是偶数"
   ]
  },
  {
   "cell_type": "code",
   "execution_count": 21,
   "metadata": {},
   "outputs": [
    {
     "data": {
      "text/plain": [
       "True"
      ]
     },
     "execution_count": 21,
     "metadata": {},
     "output_type": "execute_result"
    }
   ],
   "source": [
    "bool(1)"
   ]
  },
  {
   "cell_type": "markdown",
   "metadata": {},
   "source": [
    "## 产生随机数字\n",
    "- 函数random.randint(a,b) 可以用来产生一个a和b之间且包括a和b的随机整数"
   ]
  },
  {
   "cell_type": "markdown",
   "metadata": {},
   "source": [
    "##  其他random方法\n",
    "- random.random 返回0.0到1.0之间前闭后开区间的随机浮点\n",
    "- random.randrange(a,b) 前闭后开"
   ]
  },
  {
   "cell_type": "markdown",
   "metadata": {},
   "source": [
    "## EP：\n",
    "- 产生两个随机整数number1和number2，然后显示给用户，使用户输入数字的和，并判定其是否正确\n",
    "- 进阶:写一个随机序号点名程序"
   ]
  },
  {
   "cell_type": "code",
   "execution_count": 25,
   "metadata": {},
   "outputs": [
    {
     "name": "stdout",
     "output_type": "stream",
     "text": [
      "45 38\n",
      "输入两数之和：83\n",
      "True\n"
     ]
    }
   ],
   "source": [
    "import random\n",
    "a=random.randint(10,100)\n",
    "b=random.randint(10,100)\n",
    "print(a,b)\n",
    "name=eval(input('输入两数之和：'))\n",
    "if (a+b==name):\n",
    "    print('True')\n",
    "else:\n",
    "    print('false')"
   ]
  },
  {
   "cell_type": "code",
   "execution_count": 12,
   "metadata": {},
   "outputs": [
    {
     "name": "stdout",
     "output_type": "stream",
     "text": [
      "8 4\n",
      "2 4\n",
      "5 3\n",
      "7 3\n",
      "6 2\n",
      "9 1\n",
      "2 1\n",
      "6 3\n",
      "4 4\n"
     ]
    }
   ],
   "source": [
    "import random\n",
    "while 1:\n",
    "    x=random.randint(1,5)\n",
    "    y=random.randint(1,10)\n",
    "    print(y,x)\n",
    "    if x==y:\n",
    "        break"
   ]
  },
  {
   "cell_type": "markdown",
   "metadata": {},
   "source": [
    "## if语句\n",
    "- 如果条件正确就执行一个单向if语句，亦即当条件为真的时候才执行if内部的语句\n",
    "- Python有很多选择语句:\n",
    "> - 单向if \n",
    "  - 双向if-else\n",
    "  - 嵌套if\n",
    "  - 多向if-elif-else\n",
    "  \n",
    "- 注意：当语句含有子语句的时候，那么一定至少要有一个缩进，也就是说如果有儿子存在，那么一定要缩进\n",
    "- 切记不可tab键和space混用，单用tab 或者 space\n",
    "- 当你输出的结果是无论if是否为真时都需要显示时，语句应该与if对齐"
   ]
  },
  {
   "cell_type": "code",
   "execution_count": 27,
   "metadata": {},
   "outputs": [
    {
     "name": "stdout",
     "output_type": "stream",
     "text": [
      "输入你的分数：100\n",
      "及格\n"
     ]
    }
   ],
   "source": [
    "GG=eval(input('输入你的分数：'))\n",
    "if GG>=60:\n",
    "    print('及格')\n",
    "elif GG>=80:\n",
    "    print('优秀')\n",
    "elif GG>=100:\n",
    "    print('满分')\n",
    "else:\n",
    "    print('不及格')"
   ]
  },
  {
   "cell_type": "markdown",
   "metadata": {},
   "source": [
    "## EP：\n",
    "- 用户输入一个数字，判断其实奇数还是偶数\n",
    "- 进阶：可以查看下4.5实例研究猜生日"
   ]
  },
  {
   "cell_type": "code",
   "execution_count": null,
   "metadata": {},
   "outputs": [],
   "source": []
  },
  {
   "cell_type": "markdown",
   "metadata": {},
   "source": [
    "## 双向if-else 语句\n",
    "- 如果条件为真，那么走if内部语句，否则走else内部语句"
   ]
  },
  {
   "cell_type": "markdown",
   "metadata": {},
   "source": [
    "## EP：\n",
    "- 产生两个随机整数number1和number2，然后显示给用户，使用户输入数字，并判定其是否正确,如果正确打印“you‘re correct”，否则打印正确错误"
   ]
  },
  {
   "cell_type": "markdown",
   "metadata": {},
   "source": [
    "## 嵌套if 和多向if-elif-else\n",
    "![](../Photo/35.png)"
   ]
  },
  {
   "cell_type": "code",
   "execution_count": 19,
   "metadata": {},
   "outputs": [
    {
     "name": "stdout",
     "output_type": "stream",
     "text": [
      "输入年份：2000\n",
      "龙\n"
     ]
    }
   ],
   "source": [
    "n=eval(input('输入年份：'))\n",
    "if n%12==0:\n",
    "    print('猴')\n",
    "if n%12==1:\n",
    "    print('鸡')\n",
    "if n%12==2:\n",
    "    print('狗')\n",
    "if n%12==3:\n",
    "    print('猪')\n",
    "if n%12==4:\n",
    "    print('鼠')\n",
    "if n%12==5:\n",
    "    print('牛')\n",
    "if n%12==6:\n",
    "    print('虎')\n",
    "if n%12==7:\n",
    "    print('兔')\n",
    "if n%12==8:\n",
    "    print('龙')\n",
    "if n%12==9:\n",
    "    print('蛇')\n",
    "if n%12==10:\n",
    "    print('马')\n",
    "if n%12==11:\n",
    "    print('羊')"
   ]
  },
  {
   "cell_type": "markdown",
   "metadata": {},
   "source": [
    "## EP：\n",
    "- 提示用户输入一个年份，然后显示表示这一年的动物\n",
    "![](../Photo/36.png)\n",
    "- 计算身体质量指数的程序\n",
    "- BMI = 以千克为单位的体重除以以米为单位的身高\n",
    "![](../Photo/37.png)"
   ]
  },
  {
   "cell_type": "code",
   "execution_count": 21,
   "metadata": {},
   "outputs": [
    {
     "name": "stdout",
     "output_type": "stream",
     "text": [
      "输入身高：1.8\n",
      "输入体重：90\n",
      "50.0\n",
      "痴肥\n"
     ]
    }
   ],
   "source": [
    "s=eval(input('输入身高：'))\n",
    "t=eval(input('输入体重：'))\n",
    "b=t/s\n",
    "print(b)\n",
    "if b<18.5:\n",
    "    print('超轻')\n",
    "elif 18.5<=b<25.0:\n",
    "    print('标准')\n",
    "elif 25.0<=b<30.0:\n",
    "    print('超重')\n",
    "elif 30.0<=b:\n",
    "    print('痴肥')"
   ]
  },
  {
   "cell_type": "markdown",
   "metadata": {},
   "source": [
    "## 逻辑运算符\n",
    "![](../Photo/38.png)"
   ]
  },
  {
   "cell_type": "code",
   "execution_count": 25,
   "metadata": {},
   "outputs": [
    {
     "data": {
      "text/plain": [
       "False"
      ]
     },
     "execution_count": 25,
     "metadata": {},
     "output_type": "execute_result"
    }
   ],
   "source": [
    "1 is not 1"
   ]
  },
  {
   "cell_type": "markdown",
   "metadata": {},
   "source": [
    "![](../Photo/39.png)\n",
    "![](../Photo/40.png)"
   ]
  },
  {
   "cell_type": "markdown",
   "metadata": {},
   "source": [
    "## EP：\n",
    "- 判定闰年：一个年份如果能被4整除但不能被100整除，或者能被400整除，那么这个年份就是闰年\n",
    "- 提示用户输入一个年份，并返回是否是闰年\n",
    "- 提示用户输入一个数字，判断其是否为水仙花数"
   ]
  },
  {
   "cell_type": "code",
   "execution_count": 31,
   "metadata": {},
   "outputs": [
    {
     "name": "stdout",
     "output_type": "stream",
     "text": [
      "输入一个 年份：1981\n",
      "不是闰年\n"
     ]
    }
   ],
   "source": [
    "n=eval(input('输入一个 年份：'))\n",
    "if (n%4==0 and n%100!=0) or n%400==0:\n",
    "    print('闰年')\n",
    "else:\n",
    "    print('不是闰年')"
   ]
  },
  {
   "cell_type": "code",
   "execution_count": 54,
   "metadata": {},
   "outputs": [
    {
     "name": "stdout",
     "output_type": "stream",
     "text": [
      "输入一个三位数：153\n",
      "ok\n"
     ]
    }
   ],
   "source": [
    "max=str(input('输入一个三位数：'))\n",
    "ge=int(max[2])\n",
    "shi=int(max[1])\n",
    "bai=int(max[0])\n",
    "max=int(max)\n",
    "if max==ge**3+shi**3+bai**3:\n",
    "    print('ok')"
   ]
  },
  {
   "cell_type": "code",
   "execution_count": 41,
   "metadata": {},
   "outputs": [
    {
     "name": "stdout",
     "output_type": "stream",
     "text": [
      "请输入最大范围1000\n",
      "153\n",
      "370\n",
      "371\n",
      "407\n"
     ]
    }
   ],
   "source": [
    "max_num = int(input('请输入最大范围'))\n",
    "# 获取小于指定数的阿姆斯特朗数\n",
    "for num in range(100, 999):\n",
    "    sum = 0\n",
    "    length = len(str(num))\n",
    "    temp = num\n",
    "    for i in range(length):\n",
    "        sum += (temp % 10) ** length\n",
    "        temp //= 10\n",
    "    if sum == num:\n",
    "        print(num)"
   ]
  },
  {
   "cell_type": "markdown",
   "metadata": {},
   "source": [
    "## 实例研究：彩票\n",
    "![](../Photo/41.png)"
   ]
  },
  {
   "cell_type": "code",
   "execution_count": 69,
   "metadata": {},
   "outputs": [
    {
     "name": "stdout",
     "output_type": "stream",
     "text": [
      "8 6\n",
      "输入一个两位数：99\n",
      "谢谢参与！\n"
     ]
    }
   ],
   "source": [
    "import random\n",
    "x=random.randint(1,9)\n",
    "y=random.randint(1,9)\n",
    "print(x,y)\n",
    "r=str(input('输入一个两位数：'))\n",
    "\n",
    "if x==int(r[0]) and y==int(r[1]):\n",
    "    print('10000')\n",
    "elif x==int(r[0]) or x==int(r[1]) and y==int(r[0]) or y==int(r[1]):\n",
    "    print('3000')\n",
    "elif x==int(r[0]) or x==int(r[1]) or y==int(r[0]) or y==int(r[1]):\n",
    "    print('1000')\n",
    "else:\n",
    "    print('谢谢参与！')\n",
    "        \n"
   ]
  },
  {
   "cell_type": "markdown",
   "metadata": {},
   "source": [
    "# Homework\n",
    "- 1\n",
    "![](../Photo/42.png)"
   ]
  },
  {
   "cell_type": "code",
   "execution_count": 20,
   "metadata": {},
   "outputs": [
    {
     "name": "stdout",
     "output_type": "stream",
     "text": [
      "输入a b c的值：1.0 3 1\n",
      "-0.38197 -2.61803\n"
     ]
    }
   ],
   "source": [
    "\n",
    "import math\n",
    "a,b,c=input('输入a b c的值：').split(' ')\n",
    "a=float(a)\n",
    "b=float(b)\n",
    "c=float(c)\n",
    "x=b*b-4*a*c\n",
    "if x>0:\n",
    "    r1=(-b+math.sqrt(b*b-4*a*c))/2*a\n",
    "    r2=(-b-math.sqrt(b*b-4*a*c))/2*a\n",
    "    print(round(r1,5),round(r2,5))\n",
    "elif x==0:\n",
    "    r=(-b+math.sqrt(b*b-4*a*c))/2*a\n",
    "    print(round(r,5))\n",
    "else:\n",
    "    print('The......roots!')"
   ]
  },
  {
   "cell_type": "markdown",
   "metadata": {},
   "source": [
    "- 2\n",
    "![](../Photo/43.png)"
   ]
  },
  {
   "cell_type": "code",
   "execution_count": 23,
   "metadata": {},
   "outputs": [
    {
     "name": "stdout",
     "output_type": "stream",
     "text": [
      "15 27\n",
      "输入两数之和：50\n",
      "错误\n"
     ]
    }
   ],
   "source": [
    "import random\n",
    "a=random.randint(0,99)\n",
    "b=random.randint(0,99)\n",
    "print(a,b)\n",
    "x=eval(input('输入两数之和：'))\n",
    "if x==a+b:\n",
    "    print('正确')\n",
    "else:\n",
    "    print('错误')"
   ]
  },
  {
   "cell_type": "markdown",
   "metadata": {},
   "source": [
    "- 3\n",
    "![](../Photo/44.png)"
   ]
  },
  {
   "cell_type": "code",
   "execution_count": 27,
   "metadata": {},
   "outputs": [
    {
     "name": "stdout",
     "output_type": "stream",
     "text": [
      "请输入今天是星期几的码数：1\n",
      "请输入未来几天的天数：3\n",
      "今天是星期 4\n"
     ]
    }
   ],
   "source": [
    "\n",
    "x=eval(input('请输入今天是星期几的码数：'))\n",
    "y=eval(input('请输入未来几天的天数：'))\n",
    "m=(x+y)%7\n",
    "if m==0:\n",
    "    print('今天是星期日')\n",
    "else:\n",
    "    print('今天是星期',m)\n",
    "\n"
   ]
  },
  {
   "cell_type": "markdown",
   "metadata": {},
   "source": [
    "- 4\n",
    "![](../Photo/45.png)"
   ]
  },
  {
   "cell_type": "code",
   "execution_count": 32,
   "metadata": {},
   "outputs": [
    {
     "name": "stdout",
     "output_type": "stream",
     "text": [
      "输入a b c：2 8 4\n",
      "2 4 8\n"
     ]
    }
   ],
   "source": [
    "a,b,c=input('输入a b c：').split(' ')\n",
    "if a>b>c :\n",
    "    print(c,b,a)\n",
    "elif c>a>b:\n",
    "    print(b,a,c)\n",
    "elif b>a>c:\n",
    "    print(c,a,b)\n",
    "elif a>c>b:\n",
    "    print(b,c,a)\n",
    "elif b>c>a:\n",
    "    print(a,c,b)\n",
    "elif c>b>a:\n",
    "    print(a,b,c)"
   ]
  },
  {
   "cell_type": "code",
   "execution_count": 37,
   "metadata": {},
   "outputs": [
    {
     "name": "stdout",
     "output_type": "stream",
     "text": [
      "输入第一种的价钱和重量：50 24.59\n",
      "输入第二种的价钱和重量：25 11.99\n",
      "第二种更划算！\n"
     ]
    }
   ],
   "source": [
    "a,b=input('输入第一种的价钱和重量：').split(' ')\n",
    "a1,b1=input('输入第二种的价钱和重量：').split(' ')\n",
    "x=int(a)*float(b)\n",
    "y=int(a1)*float(b1)\n",
    "if x>y:\n",
    "    print('第二种更划算！')\n",
    "else:\n",
    "    print('第一种更划算！')\n"
   ]
  },
  {
   "cell_type": "code",
   "execution_count": 34,
   "metadata": {},
   "outputs": [
    {
     "name": "stdout",
     "output_type": "stream",
     "text": [
      "输入月份：3\n",
      "输入年份：2005\n",
      "31\n"
     ]
    }
   ],
   "source": [
    "x=eval(input('输入月份：'))\n",
    "y=eval(input('输入年份：'))\n",
    "if ((y%4==0 and y%4!=100) or y%400==0) and x==2:\n",
    "    print('29')\n",
    "elif x==1 or x==3 or x==5 or x==7 or x==8 or x==10 or x==12:\n",
    "    print('31')\n",
    "else:\n",
    "    print('30')"
   ]
  },
  {
   "cell_type": "markdown",
   "metadata": {},
   "source": [
    "- 7\n",
    "![](../Photo/48.png)"
   ]
  },
  {
   "cell_type": "code",
   "execution_count": 10,
   "metadata": {},
   "outputs": [
    {
     "name": "stdout",
     "output_type": "stream",
     "text": [
      "请猜测1或者2：2\n",
      "错误\n",
      "1\n"
     ]
    }
   ],
   "source": [
    "import random\n",
    "a=eval(input('请猜测1正面或者2反面：'))\n",
    "b=random.randint(1,2)\n",
    "if b==a:\n",
    "    print('正确')\n",
    "else:\n",
    "    print('错误')\n",
    "    \n",
    "print(b)\n"
   ]
  },
  {
   "cell_type": "markdown",
   "metadata": {},
   "source": [
    "- 8\n",
    "![](../Photo/49.png)"
   ]
  },
  {
   "cell_type": "code",
   "execution_count": 21,
   "metadata": {},
   "outputs": [
    {
     "name": "stdout",
     "output_type": "stream",
     "text": [
      "请输入 剪刀（0） 石头（1） 布（2）中的一个：2\n",
      "0\n",
      "你赢了\n"
     ]
    }
   ],
   "source": [
    "import random\n",
    "0<1\n",
    "1<2\n",
    "2<0\n",
    "x=eval(input('请输入 剪刀（0） 石头（1） 布（2）中的一个：'))\n",
    "y=random.randint(0,2)\n",
    "print(y)\n",
    "if x<y:\n",
    "    print('你输了')\n",
    "else:\n",
    "    print('你赢了')\n"
   ]
  },
  {
   "cell_type": "markdown",
   "metadata": {},
   "source": [
    "- 9\n",
    "![](../Photo/50.png)"
   ]
  },
  {
   "cell_type": "code",
   "execution_count": 11,
   "metadata": {},
   "outputs": [
    {
     "name": "stdout",
     "output_type": "stream",
     "text": [
      "输入年份：2018\n",
      "输入月份：12\n",
      "输入当前月份的某天：3\n",
      "Day of the week is 星期一\n"
     ]
    }
   ],
   "source": [
    "year = eval(input('输入年份：'))\n",
    "months = eval(input('输入月份：'))\n",
    "days = eval(input('输入当前月份的某天：'))\n",
    "hdayDict = {0:'星期六',1:'星期日', 2: '星期一', 3: '星期二', 4: '星期三', 5: '星期四', 6: '星期五'}\n",
    "monDict = {1: '13', 2: '14', 3: '3', 4: '4', 5: '5', 6: '6', 7: '7', 8: '8', 9: '9', 10: '10', \\\n",
    "             11: '11', 12: '12'}\n",
    "if months == 1 or months == 2:\n",
    "    year = year - 1 \n",
    "shijishu = year // 100\n",
    "shijiyear = year % 100\n",
    "h = (days + (26 * (eval(monDict[months]) + 1)) // 10 + shijiyear + shijiyear // 4 + shijishu // 4 + 5 * shijishu) % 7\n",
    "print('Day of the week is ' + hdayDict[h])"
   ]
  },
  {
   "cell_type": "markdown",
   "metadata": {},
   "source": [
    "- 10\n",
    "![](../Photo/51.png)"
   ]
  },
  {
   "cell_type": "code",
   "execution_count": 23,
   "metadata": {},
   "outputs": [
    {
     "name": "stdout",
     "output_type": "stream",
     "text": [
      "6 梅花\n"
     ]
    }
   ],
   "source": [
    "import random\n",
    "x=random.choice(('A',2,3,4,5,6,7,8,9,10,'J','Q','K'))\n",
    "y=random.choice(('梅花','红桃','方块','黑桃'))\n",
    "print(x,y)\n"
   ]
  },
  {
   "cell_type": "markdown",
   "metadata": {},
   "source": [
    "- 11\n",
    "![](../Photo/52.png)"
   ]
  },
  {
   "cell_type": "code",
   "execution_count": 4,
   "metadata": {},
   "outputs": [
    {
     "name": "stdout",
     "output_type": "stream",
     "text": [
      "输入一个三位的整数：121\n",
      "121 是回文数\n"
     ]
    }
   ],
   "source": [
    "a=input('输入一个三位的整数：')\n",
    "if a[0]==a[2]:\n",
    "    print(a,'是回文数')\n",
    "else:\n",
    "    print(a,'不是回文数')\n",
    "    \n"
   ]
  },
  {
   "cell_type": "markdown",
   "metadata": {},
   "source": [
    "- 12\n",
    "![](../Photo/53.png)"
   ]
  },
  {
   "cell_type": "code",
   "execution_count": 73,
   "metadata": {},
   "outputs": [
    {
     "name": "stdout",
     "output_type": "stream",
     "text": [
      "输入三个边的边长：1 1 1\n",
      "3\n"
     ]
    }
   ],
   "source": [
    "a,b,c=input('输入三个边的边长：').split(' ')\n",
    "a=int(a)\n",
    "b=int(b)\n",
    "c=int(c)\n",
    "if a+b<=c or b+c<=a or a+c<=b:\n",
    "    print('三边长错误！')\n",
    "else:\n",
    "    s=a+b+c\n",
    "    print(s)"
   ]
  }
 ],
 "metadata": {
  "kernelspec": {
   "display_name": "Python 3",
   "language": "python",
   "name": "python3"
  },
  "language_info": {
   "codemirror_mode": {
    "name": "ipython",
    "version": 3
   },
   "file_extension": ".py",
   "mimetype": "text/x-python",
   "name": "python",
   "nbconvert_exporter": "python",
   "pygments_lexer": "ipython3",
   "version": "3.6.4"
  }
 },
 "nbformat": 4,
 "nbformat_minor": 2
}
